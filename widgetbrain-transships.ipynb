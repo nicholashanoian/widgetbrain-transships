{
 "cells": [
  {
   "cell_type": "code",
   "execution_count": 333,
   "metadata": {},
   "outputs": [],
   "source": [
    "import pandas as pd\n",
    "import matplotlib.pyplot as plt\n",
    "import numpy as np\n",
    "import seaborn as sns; sns.set()\n",
    "\n",
    "from sklearn.linear_model import LogisticRegression\n",
    "from sklearn.preprocessing import OneHotEncoder\n",
    "from sklearn.model_selection import train_test_split\n",
    "from sklearn.naive_bayes import MultinomialNB\n",
    "from sklearn.ensemble import RandomForestClassifier\n",
    "from sklearn.metrics import classification_report"
   ]
  },
  {
   "cell_type": "code",
   "execution_count": 154,
   "metadata": {},
   "outputs": [],
   "source": [
    "datetime_cols = [\"eta\", \"ata\", \"atd\", \"earliesteta\", \"latesteta\"]\n",
    "data = pd.read_csv(\"VesselData.csv\", parse_dates=datetime_cols)"
   ]
  },
  {
   "cell_type": "code",
   "execution_count": 155,
   "metadata": {},
   "outputs": [
    {
     "data": {
      "text/plain": [
       "Index(['eta', 'ata', 'atd', 'vesseldwt', 'vesseltype', 'discharge1', 'load1',\n",
       "       'discharge2', 'load2', 'discharge3', 'load3', 'discharge4', 'load4',\n",
       "       'stevedorenames', 'hasnohamis', 'earliesteta', 'latesteta',\n",
       "       'traveltype', 'previousportid', 'nextportid', 'isremarkable',\n",
       "       'vesselid'],\n",
       "      dtype='object')"
      ]
     },
     "execution_count": 155,
     "metadata": {},
     "output_type": "execute_result"
    }
   ],
   "source": [
    "data.columns"
   ]
  },
  {
   "cell_type": "code",
   "execution_count": 156,
   "metadata": {},
   "outputs": [
    {
     "data": {
      "text/plain": [
       "array([nan])"
      ]
     },
     "execution_count": 156,
     "metadata": {},
     "output_type": "execute_result"
    }
   ],
   "source": [
    "# no values at all for hasnohamis, so let's drop it\n",
    "data[\"hasnohamis\"].unique()"
   ]
  },
  {
   "cell_type": "code",
   "execution_count": 157,
   "metadata": {
    "scrolled": true
   },
   "outputs": [
    {
     "data": {
      "text/plain": [
       "array(['f'], dtype=object)"
      ]
     },
     "execution_count": 157,
     "metadata": {},
     "output_type": "execute_result"
    }
   ],
   "source": [
    "# all values of isremarkable are the same, so let's drop it\n",
    "data[\"isremarkable\"].unique()"
   ]
  },
  {
   "cell_type": "code",
   "execution_count": 158,
   "metadata": {},
   "outputs": [],
   "source": [
    "data = data.drop(columns=[\"hasnohamis\", \"isremarkable\"])"
   ]
  },
  {
   "cell_type": "code",
   "execution_count": 168,
   "metadata": {},
   "outputs": [
    {
     "data": {
      "text/html": [
       "<div>\n",
       "<style scoped>\n",
       "    .dataframe tbody tr th:only-of-type {\n",
       "        vertical-align: middle;\n",
       "    }\n",
       "\n",
       "    .dataframe tbody tr th {\n",
       "        vertical-align: top;\n",
       "    }\n",
       "\n",
       "    .dataframe thead th {\n",
       "        text-align: right;\n",
       "    }\n",
       "</style>\n",
       "<table border=\"1\" class=\"dataframe\">\n",
       "  <thead>\n",
       "    <tr style=\"text-align: right;\">\n",
       "      <th></th>\n",
       "      <th>arrival_error</th>\n",
       "      <th>time_at_port</th>\n",
       "    </tr>\n",
       "  </thead>\n",
       "  <tbody>\n",
       "    <tr>\n",
       "      <th>0</th>\n",
       "      <td>0.0</td>\n",
       "      <td>3.0</td>\n",
       "    </tr>\n",
       "    <tr>\n",
       "      <th>1</th>\n",
       "      <td>0.0</td>\n",
       "      <td>1.0</td>\n",
       "    </tr>\n",
       "    <tr>\n",
       "      <th>2</th>\n",
       "      <td>0.0</td>\n",
       "      <td>1.0</td>\n",
       "    </tr>\n",
       "    <tr>\n",
       "      <th>3</th>\n",
       "      <td>0.0</td>\n",
       "      <td>1.0</td>\n",
       "    </tr>\n",
       "    <tr>\n",
       "      <th>4</th>\n",
       "      <td>0.0</td>\n",
       "      <td>0.0</td>\n",
       "    </tr>\n",
       "    <tr>\n",
       "      <th>...</th>\n",
       "      <td>...</td>\n",
       "      <td>...</td>\n",
       "    </tr>\n",
       "    <tr>\n",
       "      <th>8203</th>\n",
       "      <td>0.0</td>\n",
       "      <td>1.0</td>\n",
       "    </tr>\n",
       "    <tr>\n",
       "      <th>8204</th>\n",
       "      <td>0.0</td>\n",
       "      <td>2.0</td>\n",
       "    </tr>\n",
       "    <tr>\n",
       "      <th>8205</th>\n",
       "      <td>-1.0</td>\n",
       "      <td>4.0</td>\n",
       "    </tr>\n",
       "    <tr>\n",
       "      <th>8206</th>\n",
       "      <td>0.0</td>\n",
       "      <td>0.0</td>\n",
       "    </tr>\n",
       "    <tr>\n",
       "      <th>8207</th>\n",
       "      <td>-2.0</td>\n",
       "      <td>2.0</td>\n",
       "    </tr>\n",
       "  </tbody>\n",
       "</table>\n",
       "<p>8208 rows × 2 columns</p>\n",
       "</div>"
      ],
      "text/plain": [
       "      arrival_error  time_at_port\n",
       "0               0.0           3.0\n",
       "1               0.0           1.0\n",
       "2               0.0           1.0\n",
       "3               0.0           1.0\n",
       "4               0.0           0.0\n",
       "...             ...           ...\n",
       "8203            0.0           1.0\n",
       "8204            0.0           2.0\n",
       "8205           -1.0           4.0\n",
       "8206            0.0           0.0\n",
       "8207           -2.0           2.0\n",
       "\n",
       "[8208 rows x 2 columns]"
      ]
     },
     "execution_count": 168,
     "metadata": {},
     "output_type": "execute_result"
    }
   ],
   "source": [
    "# create useful time vars, both measured in days\n",
    "SECONDS_PER_DAY = 86400\n",
    "data[\"arrival_error\"] = [timedelt.total_seconds()/SECONDS_PER_DAY for timedelt in data[\"ata\"] - data[\"eta\"]]\n",
    "data[\"time_at_port\"] = [timedelt.total_seconds()/SECONDS_PER_DAY for timedelt in data[\"atd\"] - data[\"ata\"]]\n",
    "data[[\"arrival_error\", \"time_at_port\"]]"
   ]
  },
  {
   "cell_type": "code",
   "execution_count": 159,
   "metadata": {},
   "outputs": [],
   "source": [
    "# create sum of all discharge and load vars\n",
    "transships_vars = {\"trans1\": ['discharge1', 'load1'],\n",
    "                   \"trans2\": ['discharge2', 'load2'], \n",
    "                   \"trans3\": ['discharge3', 'load3'],\n",
    "                   \"trans4\": ['discharge4', 'load4']}\n",
    "for k,vals in transships_vars.items():\n",
    "    data[k] = sum([data[v] for v in vals])\n"
   ]
  },
  {
   "cell_type": "code",
   "execution_count": 160,
   "metadata": {},
   "outputs": [
    {
     "name": "stdout",
     "output_type": "stream",
     "text": [
      "var 1 percent nonzero: 0.021564327485380116\n",
      "var 2 percent nonzero: 0.016203703703703703\n",
      "var 3 percent nonzero: 0.04690545808966862\n",
      "var 4 percent nonzero: 0.11269493177387914\n"
     ]
    },
    {
     "data": {
      "image/png": "[encoded data removed]",
      "text/plain": [
       "<Figure size 432x288 with 4 Axes>"
      ]
     },
     "metadata": {},
     "output_type": "display_data"
    }
   ],
   "source": [
    "# look at each var of interest\n",
    "fig, axs = plt.subplots(2,2)\n",
    "for i, ax in zip(range(1,5), axs.flatten()):\n",
    "    var = f\"trans{i}\"\n",
    "    # only look at when data != 0\n",
    "    to_plot = data[data[var] != 0][var]\n",
    "    print(f\"var {i} percent nonzero: {len(to_plot) / len(data)}\")\n",
    "    ax.hist(to_plot, bins=20)"
   ]
  },
  {
   "cell_type": "code",
   "execution_count": 177,
   "metadata": {},
   "outputs": [
    {
     "data": {
      "text/html": [
       "<div>\n",
       "<style scoped>\n",
       "    .dataframe tbody tr th:only-of-type {\n",
       "        vertical-align: middle;\n",
       "    }\n",
       "\n",
       "    .dataframe tbody tr th {\n",
       "        vertical-align: top;\n",
       "    }\n",
       "\n",
       "    .dataframe thead th {\n",
       "        text-align: right;\n",
       "    }\n",
       "</style>\n",
       "<table border=\"1\" class=\"dataframe\">\n",
       "  <thead>\n",
       "    <tr style=\"text-align: right;\">\n",
       "      <th></th>\n",
       "      <th>has_trans3</th>\n",
       "      <th>trans3</th>\n",
       "    </tr>\n",
       "  </thead>\n",
       "  <tbody>\n",
       "    <tr>\n",
       "      <th>0</th>\n",
       "      <td>True</td>\n",
       "      <td>90173</td>\n",
       "    </tr>\n",
       "    <tr>\n",
       "      <th>1</th>\n",
       "      <td>False</td>\n",
       "      <td>0</td>\n",
       "    </tr>\n",
       "    <tr>\n",
       "      <th>2</th>\n",
       "      <td>False</td>\n",
       "      <td>0</td>\n",
       "    </tr>\n",
       "    <tr>\n",
       "      <th>3</th>\n",
       "      <td>False</td>\n",
       "      <td>0</td>\n",
       "    </tr>\n",
       "    <tr>\n",
       "      <th>4</th>\n",
       "      <td>False</td>\n",
       "      <td>0</td>\n",
       "    </tr>\n",
       "    <tr>\n",
       "      <th>...</th>\n",
       "      <td>...</td>\n",
       "      <td>...</td>\n",
       "    </tr>\n",
       "    <tr>\n",
       "      <th>8203</th>\n",
       "      <td>False</td>\n",
       "      <td>0</td>\n",
       "    </tr>\n",
       "    <tr>\n",
       "      <th>8204</th>\n",
       "      <td>False</td>\n",
       "      <td>0</td>\n",
       "    </tr>\n",
       "    <tr>\n",
       "      <th>8205</th>\n",
       "      <td>False</td>\n",
       "      <td>0</td>\n",
       "    </tr>\n",
       "    <tr>\n",
       "      <th>8206</th>\n",
       "      <td>False</td>\n",
       "      <td>0</td>\n",
       "    </tr>\n",
       "    <tr>\n",
       "      <th>8207</th>\n",
       "      <td>False</td>\n",
       "      <td>0</td>\n",
       "    </tr>\n",
       "  </tbody>\n",
       "</table>\n",
       "<p>8208 rows × 2 columns</p>\n",
       "</div>"
      ],
      "text/plain": [
       "      has_trans3  trans3\n",
       "0           True   90173\n",
       "1          False       0\n",
       "2          False       0\n",
       "3          False       0\n",
       "4          False       0\n",
       "...          ...     ...\n",
       "8203       False       0\n",
       "8204       False       0\n",
       "8205       False       0\n",
       "8206       False       0\n",
       "8207       False       0\n",
       "\n",
       "[8208 rows x 2 columns]"
      ]
     },
     "execution_count": 177,
     "metadata": {},
     "output_type": "execute_result"
    }
   ],
   "source": [
    "# we see that almost all of the data is 0 for each cargo type. Let's\n",
    "# create masks for whether each ship has any cargo of that type\n",
    "for i in range(1,5):\n",
    "    data[f\"has_trans{i}\"] = data[f\"trans{i}\"] != 0\n",
    "\n",
    "# check for trans3, looks good\n",
    "data[[\"has_trans3\", \"trans3\"]]"
   ]
  },
  {
   "cell_type": "code",
   "execution_count": 191,
   "metadata": {},
   "outputs": [
    {
     "data": {
      "text/plain": [
       "Index(['eta', 'ata', 'atd', 'vesseldwt', 'vesseltype', 'discharge1', 'load1',\n",
       "       'discharge2', 'load2', 'discharge3', 'load3', 'discharge4', 'load4',\n",
       "       'stevedorenames', 'earliesteta', 'latesteta', 'traveltype',\n",
       "       'previousportid', 'nextportid', 'vesselid', 'trans1', 'trans2',\n",
       "       'trans3', 'trans4', 'arrival_error', 'time_at_port', 'has_trans1',\n",
       "       'has_trans2', 'has_trans3', 'has_trans4'],\n",
       "      dtype='object')"
      ]
     },
     "execution_count": 191,
     "metadata": {},
     "output_type": "execute_result"
    }
   ],
   "source": [
    "data.columns"
   ]
  },
  {
   "cell_type": "code",
   "execution_count": 319,
   "metadata": {},
   "outputs": [],
   "source": [
    "X_cols = [\"vesseldwt\", \"vesseltype\", \"traveltype\", \"arrival_error\", \"time_at_port\"]\n",
    "Y_cols = [\"trans1\", \"trans2\", \"trans3\", \"trans4\", \n",
    "          \"has_trans1\", \"has_trans2\", \"has_trans3\", \"has_trans4\"]\n",
    "X = data[X_cols]\n",
    "Y = data[Y_cols]"
   ]
  },
  {
   "cell_type": "code",
   "execution_count": 361,
   "metadata": {},
   "outputs": [],
   "source": [
    "X_train, X_test, Y_train, Y_test = train_test_split(X, Y, test_size=0.33, random_state=42)"
   ]
  },
  {
   "cell_type": "code",
   "execution_count": 362,
   "metadata": {},
   "outputs": [
    {
     "name": "stdout",
     "output_type": "stream",
     "text": [
      "has_trans2    0\n",
      "has_trans3    0\n",
      "has_trans4    0\n",
      "dtype: int64\n",
      "has_trans1    0\n",
      "has_trans3    0\n",
      "has_trans4    0\n",
      "dtype: int64\n",
      "has_trans1    0\n",
      "has_trans2    0\n",
      "has_trans4    6\n",
      "dtype: int64\n",
      "has_trans1    0\n",
      "has_trans2    0\n",
      "has_trans3    6\n",
      "dtype: int64\n"
     ]
    }
   ],
   "source": [
    "# only cargo types 3 and 4 overlap in very few cases, \n",
    "# so let's sacrafice these errors and just build a classifier\n",
    "# to determine what type of cargo a ship has\n",
    "cargo_types = [1,2,3,4]\n",
    "for i in cargo_types:\n",
    "    print(Y_train[Y_train[f\"has_trans{i}\"] == True][[f\"has_trans{j}\" for j in cargo_types if j != i]].sum())"
   ]
  },
  {
   "cell_type": "code",
   "execution_count": 363,
   "metadata": {},
   "outputs": [],
   "source": [
    "# drop the disagreeing rows\n",
    "bad_idxs = Y_train.query(\"has_trans3==True & has_trans4==True\").index\n",
    "X_train = X_train.drop(index=bad_idxs)\n",
    "Y_train = Y_train.drop(index=bad_idxs)"
   ]
  },
  {
   "cell_type": "code",
   "execution_count": 364,
   "metadata": {},
   "outputs": [],
   "source": [
    "# 1--4 for those cargo types, 0 for no cargo\n",
    "def determine_cargo_class(has_trans_row):\n",
    "    if has_trans_row[\"has_trans1\"] == True:\n",
    "        return 1\n",
    "    elif has_trans_row[\"has_trans2\"] == True:\n",
    "        return 2\n",
    "    elif has_trans_row[\"has_trans3\"] == True:\n",
    "        return 3\n",
    "    elif has_trans_row[\"has_trans4\"] == True:\n",
    "        return 4\n",
    "    else:\n",
    "        return 0"
   ]
  },
  {
   "cell_type": "code",
   "execution_count": 365,
   "metadata": {},
   "outputs": [],
   "source": [
    "def transform_X(X):\n",
    "    X = X.copy()\n",
    "    travel_ints = []\n",
    "    for idx, row in X.iterrows():\n",
    "        if row[\"traveltype\"] == \"SHIFT\":\n",
    "            travel_ints.append(0)\n",
    "        else:\n",
    "            travel_ints.append(1)\n",
    "    X[\"traveltype\"] = travel_ints\n",
    "    return X"
   ]
  },
  {
   "cell_type": "code",
   "execution_count": 366,
   "metadata": {},
   "outputs": [],
   "source": [
    "def transform_Y(Y):\n",
    "    Y = Y.copy()\n",
    "    cargo_classes = []\n",
    "    for idx, row in Y.iterrows():\n",
    "        cargo_classes.append(determine_cargo_class(row))\n",
    "    Y[\"cargo_class\"] = cargo_classes\n",
    "    return Y"
   ]
  },
  {
   "cell_type": "code",
   "execution_count": null,
   "metadata": {},
   "outputs": [],
   "source": []
  },
  {
   "cell_type": "code",
   "execution_count": null,
   "metadata": {},
   "outputs": [],
   "source": []
  },
  {
   "cell_type": "code",
   "execution_count": 367,
   "metadata": {},
   "outputs": [
    {
     "data": {
      "text/plain": [
       "RandomForestClassifier(bootstrap=True, ccp_alpha=0.0, class_weight=None,\n",
       "                       criterion='gini', max_depth=None, max_features='auto',\n",
       "                       max_leaf_nodes=None, max_samples=None,\n",
       "                       min_impurity_decrease=0.0, min_impurity_split=None,\n",
       "                       min_samples_leaf=1, min_samples_split=2,\n",
       "                       min_weight_fraction_leaf=0.0, n_estimators=100,\n",
       "                       n_jobs=None, oob_score=False, random_state=None,\n",
       "                       verbose=0, warm_start=False)"
      ]
     },
     "execution_count": 367,
     "metadata": {},
     "output_type": "execute_result"
    }
   ],
   "source": [
    "na_X_idx = X_train[X_train.isnull().any(axis=1)].index\n",
    "X_train = X_train.drop(index=na_X_idx)\n",
    "Y_train = Y_train.drop(index=na_X_idx)\n",
    "\n",
    "X_train = transform_X(X_train)\n",
    "Y_train = transform_Y(Y_train)\n",
    "\n",
    "cargo_encoder = OneHotEncoder()\n",
    "cargo_type_train = cargo_encoder.fit_transform(Y_train[[\"cargo_class\"]])\n",
    "\n",
    "cargo_type_clf = RandomForestClassifier(n_estimators=100)\n",
    "cargo_type_clf.fit(X_train, Y_train[\"cargo_class\"])"
   ]
  },
  {
   "cell_type": "code",
   "execution_count": 368,
   "metadata": {},
   "outputs": [
    {
     "name": "stdout",
     "output_type": "stream",
     "text": [
      "              precision    recall  f1-score   support\n",
      "\n",
      "           0       0.94      0.96      0.95      2160\n",
      "           1       0.62      0.43      0.51        65\n",
      "           2       0.60      0.56      0.58        50\n",
      "           3       0.92      0.75      0.82       130\n",
      "           4       0.66      0.65      0.66       304\n",
      "\n",
      "    accuracy                           0.89      2709\n",
      "   macro avg       0.75      0.67      0.70      2709\n",
      "weighted avg       0.89      0.89      0.89      2709\n",
      "\n"
     ]
    }
   ],
   "source": [
    "X_test = transform_X(X_test)\n",
    "Y_test = transform_Y(Y_test)\n",
    "\n",
    "# so we do an ok job predicting the type of cargo on the ship, overall f1-score of 0.89\n",
    "print(classification_report(Y_test[\"cargo_class\"], cargo_type_clf.predict(X_test)))"
   ]
  },
  {
   "cell_type": "code",
   "execution_count": 370,
   "metadata": {},
   "outputs": [
    {
     "data": {
      "text/plain": [
       "Index(['eta', 'ata', 'atd', 'vesseldwt', 'vesseltype', 'discharge1', 'load1',\n",
       "       'discharge2', 'load2', 'discharge3', 'load3', 'discharge4', 'load4',\n",
       "       'stevedorenames', 'earliesteta', 'latesteta', 'traveltype',\n",
       "       'previousportid', 'nextportid', 'vesselid', 'trans1', 'trans2',\n",
       "       'trans3', 'trans4', 'arrival_error', 'time_at_port', 'has_trans1',\n",
       "       'has_trans2', 'has_trans3', 'has_trans4'],\n",
       "      dtype='object')"
      ]
     },
     "execution_count": 370,
     "metadata": {},
     "output_type": "execute_result"
    }
   ],
   "source": [
    "# now we need to predict the amount of cargo\n",
    "data.columns"
   ]
  },
  {
   "cell_type": "code",
   "execution_count": 373,
   "metadata": {},
   "outputs": [],
   "source": [
    "weight_X_train = X_train\n",
    "weight_X_train[\"cargo_class\"] = Y_train[\"cargo_class\"]"
   ]
  },
  {
   "cell_type": "code",
   "execution_count": 376,
   "metadata": {},
   "outputs": [
    {
     "data": {
      "text/html": [
       "<div>\n",
       "<style scoped>\n",
       "    .dataframe tbody tr th:only-of-type {\n",
       "        vertical-align: middle;\n",
       "    }\n",
       "\n",
       "    .dataframe tbody tr th {\n",
       "        vertical-align: top;\n",
       "    }\n",
       "\n",
       "    .dataframe thead th {\n",
       "        text-align: right;\n",
       "    }\n",
       "</style>\n",
       "<table border=\"1\" class=\"dataframe\">\n",
       "  <thead>\n",
       "    <tr style=\"text-align: right;\">\n",
       "      <th></th>\n",
       "      <th>trans1</th>\n",
       "      <th>trans2</th>\n",
       "      <th>trans3</th>\n",
       "      <th>trans4</th>\n",
       "      <th>has_trans1</th>\n",
       "      <th>has_trans2</th>\n",
       "      <th>has_trans3</th>\n",
       "      <th>has_trans4</th>\n",
       "      <th>cargo_class</th>\n",
       "    </tr>\n",
       "  </thead>\n",
       "  <tbody>\n",
       "    <tr>\n",
       "      <th>2908</th>\n",
       "      <td>0</td>\n",
       "      <td>0</td>\n",
       "      <td>0</td>\n",
       "      <td>0</td>\n",
       "      <td>False</td>\n",
       "      <td>False</td>\n",
       "      <td>False</td>\n",
       "      <td>False</td>\n",
       "      <td>0</td>\n",
       "    </tr>\n",
       "    <tr>\n",
       "      <th>3459</th>\n",
       "      <td>0</td>\n",
       "      <td>0</td>\n",
       "      <td>0</td>\n",
       "      <td>0</td>\n",
       "      <td>False</td>\n",
       "      <td>False</td>\n",
       "      <td>False</td>\n",
       "      <td>False</td>\n",
       "      <td>0</td>\n",
       "    </tr>\n",
       "    <tr>\n",
       "      <th>272</th>\n",
       "      <td>0</td>\n",
       "      <td>0</td>\n",
       "      <td>0</td>\n",
       "      <td>0</td>\n",
       "      <td>False</td>\n",
       "      <td>False</td>\n",
       "      <td>False</td>\n",
       "      <td>False</td>\n",
       "      <td>0</td>\n",
       "    </tr>\n",
       "    <tr>\n",
       "      <th>2042</th>\n",
       "      <td>0</td>\n",
       "      <td>0</td>\n",
       "      <td>0</td>\n",
       "      <td>0</td>\n",
       "      <td>False</td>\n",
       "      <td>False</td>\n",
       "      <td>False</td>\n",
       "      <td>False</td>\n",
       "      <td>0</td>\n",
       "    </tr>\n",
       "    <tr>\n",
       "      <th>7448</th>\n",
       "      <td>0</td>\n",
       "      <td>0</td>\n",
       "      <td>0</td>\n",
       "      <td>0</td>\n",
       "      <td>False</td>\n",
       "      <td>False</td>\n",
       "      <td>False</td>\n",
       "      <td>False</td>\n",
       "      <td>0</td>\n",
       "    </tr>\n",
       "    <tr>\n",
       "      <th>...</th>\n",
       "      <td>...</td>\n",
       "      <td>...</td>\n",
       "      <td>...</td>\n",
       "      <td>...</td>\n",
       "      <td>...</td>\n",
       "      <td>...</td>\n",
       "      <td>...</td>\n",
       "      <td>...</td>\n",
       "      <td>...</td>\n",
       "    </tr>\n",
       "    <tr>\n",
       "      <th>5734</th>\n",
       "      <td>0</td>\n",
       "      <td>0</td>\n",
       "      <td>0</td>\n",
       "      <td>0</td>\n",
       "      <td>False</td>\n",
       "      <td>False</td>\n",
       "      <td>False</td>\n",
       "      <td>False</td>\n",
       "      <td>0</td>\n",
       "    </tr>\n",
       "    <tr>\n",
       "      <th>5191</th>\n",
       "      <td>0</td>\n",
       "      <td>0</td>\n",
       "      <td>0</td>\n",
       "      <td>0</td>\n",
       "      <td>False</td>\n",
       "      <td>False</td>\n",
       "      <td>False</td>\n",
       "      <td>False</td>\n",
       "      <td>0</td>\n",
       "    </tr>\n",
       "    <tr>\n",
       "      <th>5390</th>\n",
       "      <td>0</td>\n",
       "      <td>0</td>\n",
       "      <td>0</td>\n",
       "      <td>0</td>\n",
       "      <td>False</td>\n",
       "      <td>False</td>\n",
       "      <td>False</td>\n",
       "      <td>False</td>\n",
       "      <td>0</td>\n",
       "    </tr>\n",
       "    <tr>\n",
       "      <th>860</th>\n",
       "      <td>0</td>\n",
       "      <td>0</td>\n",
       "      <td>0</td>\n",
       "      <td>0</td>\n",
       "      <td>False</td>\n",
       "      <td>False</td>\n",
       "      <td>False</td>\n",
       "      <td>False</td>\n",
       "      <td>0</td>\n",
       "    </tr>\n",
       "    <tr>\n",
       "      <th>7270</th>\n",
       "      <td>0</td>\n",
       "      <td>0</td>\n",
       "      <td>0</td>\n",
       "      <td>0</td>\n",
       "      <td>False</td>\n",
       "      <td>False</td>\n",
       "      <td>False</td>\n",
       "      <td>False</td>\n",
       "      <td>0</td>\n",
       "    </tr>\n",
       "  </tbody>\n",
       "</table>\n",
       "<p>5491 rows × 9 columns</p>\n",
       "</div>"
      ],
      "text/plain": [
       "      trans1  trans2  trans3  trans4  has_trans1  has_trans2  has_trans3  \\\n",
       "2908       0       0       0       0       False       False       False   \n",
       "3459       0       0       0       0       False       False       False   \n",
       "272        0       0       0       0       False       False       False   \n",
       "2042       0       0       0       0       False       False       False   \n",
       "7448       0       0       0       0       False       False       False   \n",
       "...      ...     ...     ...     ...         ...         ...         ...   \n",
       "5734       0       0       0       0       False       False       False   \n",
       "5191       0       0       0       0       False       False       False   \n",
       "5390       0       0       0       0       False       False       False   \n",
       "860        0       0       0       0       False       False       False   \n",
       "7270       0       0       0       0       False       False       False   \n",
       "\n",
       "      has_trans4  cargo_class  \n",
       "2908       False            0  \n",
       "3459       False            0  \n",
       "272        False            0  \n",
       "2042       False            0  \n",
       "7448       False            0  \n",
       "...          ...          ...  \n",
       "5734       False            0  \n",
       "5191       False            0  \n",
       "5390       False            0  \n",
       "860        False            0  \n",
       "7270       False            0  \n",
       "\n",
       "[5491 rows x 9 columns]"
      ]
     },
     "execution_count": 376,
     "metadata": {},
     "output_type": "execute_result"
    }
   ],
   "source": [
    "Y_train[\"total_trans\"] = "
   ]
  },
  {
   "cell_type": "code",
   "execution_count": null,
   "metadata": {},
   "outputs": [],
   "source": []
  }
 ],
 "metadata": {
  "kernelspec": {
   "display_name": "data-science",
   "language": "python",
   "name": "data-science"
  },
  "language_info": {
   "codemirror_mode": {
    "name": "ipython",
    "version": 3
   },
   "file_extension": ".py",
   "mimetype": "text/x-python",
   "name": "python",
   "nbconvert_exporter": "python",
   "pygments_lexer": "ipython3",
   "version": "3.8.1"
  }
 },
 "nbformat": 4,
 "nbformat_minor": 2
}
